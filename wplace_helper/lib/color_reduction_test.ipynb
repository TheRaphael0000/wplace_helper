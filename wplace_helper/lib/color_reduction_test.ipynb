{
 "cells": [
  {
   "cell_type": "code",
   "execution_count": null,
   "id": "0cf26b84",
   "metadata": {},
   "outputs": [],
   "source": [
    "import numpy as np\n",
    "import matplotlib.pyplot as plt\n",
    "from color_reduction import color_reduction_lab"
   ]
  },
  {
   "cell_type": "code",
   "execution_count": null,
   "id": "f4ebfa8f",
   "metadata": {},
   "outputs": [],
   "source": [
    "image_rgba = np.array(\n",
    "    [\n",
    "        [[255, 0, 0, 255], [0, 255, 0, 255], [0, 0, 255, 255]],\n",
    "        [[255, 20, 20, 255], [20, 255, 20, 255], [20, 20, 255, 255]],\n",
    "        [[255, 60, 60, 255], [60, 255, 60, 255], [60, 60, 255, 255]],\n",
    "        [[255, 80, 80, 255], [80, 255, 80, 255], [80, 80, 255, 255]],\n",
    "        [[255, 100, 100, 255], [100, 255, 100, 255], [100, 100, 255, 255]],\n",
    "        [[255, 120, 120, 255], [120, 255, 120, 255], [120, 120, 255, 255]],\n",
    "        [[255, 140, 140, 255], [140, 255, 140, 255], [140, 140, 255, 255]],\n",
    "        [[255, 160, 160, 255], [160, 255, 160, 255], [160, 160, 255, 255]],\n",
    "        [[255, 180, 180, 255], [180, 255, 180, 255], [180, 180, 255, 255]],\n",
    "        [[255, 200, 200, 255], [200, 255, 200, 255], [200, 200, 255, 255]],\n",
    "        [[255, 220, 220, 255], [220, 255, 220, 255], [220, 220, 255, 255]],\n",
    "        [[255, 240, 240, 255], [240, 255, 240, 255], [240, 240, 255, 255]],\n",
    "        [[255, 255, 255, 255], [255, 255, 255, 255], [255, 255, 255, 255]],\n",
    "    ]\n",
    ")\n",
    "palette_rgb = np.array([\n",
    "    [255, 255, 255],\n",
    "    [255, 0, 0],\n",
    "    [0, 255, 0],\n",
    "    [0, 0, 255],\n",
    "    [0, 0, 0],\n",
    "    [127, 127, 127],\n",
    "])\n",
    "\n",
    "\n",
    "print(image_rgba.shape)\n",
    "plt.imshow(image_rgba)\n",
    "plt.show()\n",
    "\n",
    "print(palette_rgb.shape)\n",
    "plt.imshow(np.expand_dims(palette_rgb, axis=0))\n",
    "plt.show()\n",
    "\n",
    "image_palettised = color_reduction_lab(image_rgba[:, :, :3], palette_rgb)\n",
    "plt.imshow(image_palettised)\n",
    "plt.show()"
   ]
  },
  {
   "cell_type": "code",
   "execution_count": null,
   "id": "1b655e74",
   "metadata": {},
   "outputs": [],
   "source": []
  }
 ],
 "metadata": {
  "kernelspec": {
   "display_name": "Python 3",
   "language": "python",
   "name": "python3"
  },
  "language_info": {
   "codemirror_mode": {
    "name": "ipython",
    "version": 3
   },
   "file_extension": ".py",
   "mimetype": "text/x-python",
   "name": "python",
   "nbconvert_exporter": "python",
   "pygments_lexer": "ipython3",
   "version": "3.10.6"
  }
 },
 "nbformat": 4,
 "nbformat_minor": 5
}
